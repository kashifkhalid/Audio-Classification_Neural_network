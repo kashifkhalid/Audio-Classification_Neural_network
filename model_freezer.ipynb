{
 "cells": [
  {
   "cell_type": "code",
   "execution_count": 1,
   "metadata": {},
   "outputs": [],
   "source": [
    "import tensorflow as tf\n"
   ]
  },
  {
   "cell_type": "code",
   "execution_count": 19,
   "metadata": {},
   "outputs": [
    {
     "name": "stdout",
     "output_type": "stream",
     "text": [
      "C:/Users/kkhalid/frozen_model.pb\n"
     ]
    }
   ],
   "source": [
    "checkpoint = tf.train.get_checkpoint_state('C:/Users/kkhalid/project_kk/')\n",
    "input_checkpoint = checkpoint.model_checkpoint_path\n",
    "#print(input_checkpoint)\n",
    "\n",
    "absolute_model_dir = \"/\".join(input_checkpoint.split('/')[:-1])\n",
    "output_graph = absolute_model_dir + \"/frozen_model.pb\"\n",
    "print(output_graph)\n",
    "\n",
    "clear_devices=True\n",
    "output_node_names=('op_to_restore,input_data')\n"
   ]
  },
  {
   "cell_type": "code",
   "execution_count": 20,
   "metadata": {},
   "outputs": [
    {
     "name": "stdout",
     "output_type": "stream",
     "text": [
      "INFO:tensorflow:Restoring parameters from C:/Users/kkhalid/project_kk\\CNN_model_trained\n",
      "INFO:tensorflow:Froze 6 variables.\n",
      "Converted 6 variables to const ops.\n"
     ]
    }
   ],
   "source": [
    "with tf.Session(graph=tf.Graph()) as sess:\n",
    "    saver = tf.train.import_meta_graph(input_checkpoint + '.meta', clear_devices=clear_devices)\n",
    "    saver.restore(sess, input_checkpoint)\n",
    "    output_graph_def = tf.graph_util.convert_variables_to_constants(sess,tf.get_default_graph().as_graph_def(), output_node_names.split(\",\") )"
   ]
  },
  {
   "cell_type": "code",
   "execution_count": 21,
   "metadata": {},
   "outputs": [
    {
     "name": "stdout",
     "output_type": "stream",
     "text": [
      "29 ops in the final graph.\n"
     ]
    }
   ],
   "source": [
    "with tf.gfile.GFile(output_graph, \"wb\") as f:\n",
    "    f.write(output_graph_def.SerializeToString())\n",
    "print(\"%d ops in the final graph.\" % len(output_graph_def.node))"
   ]
  }
 ],
 "metadata": {
  "kernelspec": {
   "display_name": "Python 3",
   "language": "python",
   "name": "python3"
  },
  "language_info": {
   "codemirror_mode": {
    "name": "ipython",
    "version": 3
   },
   "file_extension": ".py",
   "mimetype": "text/x-python",
   "name": "python",
   "nbconvert_exporter": "python",
   "pygments_lexer": "ipython3",
   "version": "3.5.5"
  }
 },
 "nbformat": 4,
 "nbformat_minor": 2
}
